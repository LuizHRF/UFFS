{
 "cells": [
  {
   "cell_type": "markdown",
   "id": "caefc614",
   "metadata": {},
   "source": [
    "# **Implementação de métodos numéricos**\n",
    "\n",
    "Disciplina de `Cálculo Numérico`\n",
    "\n",
    "*Luiz Faccio*\n"
   ]
  },
  {
   "cell_type": "code",
   "execution_count": 4,
   "id": "9f014561",
   "metadata": {},
   "outputs": [],
   "source": [
    "import pandas as pd\n",
    "import math\n",
    "# from Algoritmos_Encontrar_Zeros.agrg import gerar_tabela\n",
    "from interpolacao.metodos import interpolar_gregory_n, interpolar_lagrange"
   ]
  },
  {
   "cell_type": "markdown",
   "id": "df954b2b",
   "metadata": {},
   "source": [
    "## Aproximação de zeros\n",
    "\n",
    "Gera tabela de aproximações para zeros de uma função utilizando os métodos da bissecção, posição falsa, ponto fixo, Newton e Secante"
   ]
  },
  {
   "cell_type": "code",
   "execution_count": 2,
   "id": "e1be5a38",
   "metadata": {},
   "outputs": [
    {
     "data": {
      "text/html": [
       "<div>\n",
       "<style scoped>\n",
       "    .dataframe tbody tr th:only-of-type {\n",
       "        vertical-align: middle;\n",
       "    }\n",
       "\n",
       "    .dataframe tbody tr th {\n",
       "        vertical-align: top;\n",
       "    }\n",
       "\n",
       "    .dataframe thead th {\n",
       "        text-align: right;\n",
       "    }\n",
       "</style>\n",
       "<table border=\"1\" class=\"dataframe\">\n",
       "  <thead>\n",
       "    <tr style=\"text-align: right;\">\n",
       "      <th></th>\n",
       "      <th>Dados Iniciais</th>\n",
       "      <th>Aproximação de X</th>\n",
       "      <th>f(x)</th>\n",
       "      <th>Iterações</th>\n",
       "    </tr>\n",
       "  </thead>\n",
       "  <tbody>\n",
       "    <tr>\n",
       "      <th>Bisseção</th>\n",
       "      <td>I = (1, 2)</td>\n",
       "      <td>1.324718</td>\n",
       "      <td>1.759583e-07</td>\n",
       "      <td>20</td>\n",
       "    </tr>\n",
       "    <tr>\n",
       "      <th>Posição Falsa</th>\n",
       "      <td>I = (1, 2)</td>\n",
       "      <td>1.324718</td>\n",
       "      <td>-8.290661e-07</td>\n",
       "      <td>16</td>\n",
       "    </tr>\n",
       "    <tr>\n",
       "      <th>Ponto Fixo</th>\n",
       "      <td>x0 = 1.2</td>\n",
       "      <td>1.324718</td>\n",
       "      <td>-9.218530e-07</td>\n",
       "      <td>7</td>\n",
       "    </tr>\n",
       "    <tr>\n",
       "      <th>Newton</th>\n",
       "      <td>x0 = 0.5</td>\n",
       "      <td>1.324718</td>\n",
       "      <td>1.743741e-07</td>\n",
       "      <td>18</td>\n",
       "    </tr>\n",
       "    <tr>\n",
       "      <th>Secante</th>\n",
       "      <td>x0 = 0, x1 = 0.5</td>\n",
       "      <td>1.324718</td>\n",
       "      <td>-4.340576e-08</td>\n",
       "      <td>25</td>\n",
       "    </tr>\n",
       "  </tbody>\n",
       "</table>\n",
       "</div>"
      ],
      "text/plain": [
       "                 Dados Iniciais  Aproximação de X          f(x)  Iterações\n",
       "Bisseção             I = (1, 2)          1.324718  1.759583e-07         20\n",
       "Posição Falsa        I = (1, 2)          1.324718 -8.290661e-07         16\n",
       "Ponto Fixo             x0 = 1.2          1.324718 -9.218530e-07          7\n",
       "Newton                 x0 = 0.5          1.324718  1.743741e-07         18\n",
       "Secante        x0 = 0, x1 = 0.5          1.324718 -4.340576e-08         25"
      ]
     },
     "execution_count": 2,
     "metadata": {},
     "output_type": "execute_result"
    }
   ],
   "source": [
    "s = gerar_tabela(\n",
    "    I = (1, 2),\n",
    "    f = lambda x: x**3 -x -1,\n",
    "    e1 = 0.000001,\n",
    "    e2 = 0.000001,\n",
    "    fi = lambda x: (x +1)**(1/3),\n",
    "    df = lambda x: 3*(x**2) - 1,\n",
    "    x0_MPF = 1.2,\n",
    "    x0_Newton= 0.5,\n",
    "    x0_x1_Secante = (0, 0.5)\n",
    ")\n",
    "s"
   ]
  },
  {
   "cell_type": "code",
   "execution_count": 3,
   "id": "29f303ed",
   "metadata": {},
   "outputs": [
    {
     "data": {
      "text/html": [
       "<div>\n",
       "<style scoped>\n",
       "    .dataframe tbody tr th:only-of-type {\n",
       "        vertical-align: middle;\n",
       "    }\n",
       "\n",
       "    .dataframe tbody tr th {\n",
       "        vertical-align: top;\n",
       "    }\n",
       "\n",
       "    .dataframe thead th {\n",
       "        text-align: right;\n",
       "    }\n",
       "</style>\n",
       "<table border=\"1\" class=\"dataframe\">\n",
       "  <thead>\n",
       "    <tr style=\"text-align: right;\">\n",
       "      <th></th>\n",
       "      <th>Dados Iniciais</th>\n",
       "      <th>Aproximação de X</th>\n",
       "      <th>f(x)</th>\n",
       "      <th>Iterações</th>\n",
       "    </tr>\n",
       "  </thead>\n",
       "  <tbody>\n",
       "    <tr>\n",
       "      <th>Bisseção</th>\n",
       "      <td>I = (1, 2)</td>\n",
       "      <td>1.109863</td>\n",
       "      <td>-7.358786e-04</td>\n",
       "      <td>10</td>\n",
       "    </tr>\n",
       "    <tr>\n",
       "      <th>Posição Falsa</th>\n",
       "      <td>I = (1, 2)</td>\n",
       "      <td>1.110520</td>\n",
       "      <td>2.794629e-04</td>\n",
       "      <td>1</td>\n",
       "    </tr>\n",
       "    <tr>\n",
       "      <th>Ponto Fixo</th>\n",
       "      <td>x0 = 1.2</td>\n",
       "      <td>1.109967</td>\n",
       "      <td>-5.749486e-04</td>\n",
       "      <td>8</td>\n",
       "    </tr>\n",
       "    <tr>\n",
       "      <th>Newton</th>\n",
       "      <td>x0 = 1.2</td>\n",
       "      <td>1.110339</td>\n",
       "      <td>-2.042571e-07</td>\n",
       "      <td>1</td>\n",
       "    </tr>\n",
       "    <tr>\n",
       "      <th>Secante</th>\n",
       "      <td>x0 = 1, x1 = 2</td>\n",
       "      <td>1.110344</td>\n",
       "      <td>6.866371e-06</td>\n",
       "      <td>2</td>\n",
       "    </tr>\n",
       "  </tbody>\n",
       "</table>\n",
       "</div>"
      ],
      "text/plain": [
       "               Dados Iniciais  Aproximação de X          f(x)  Iterações\n",
       "Bisseção           I = (1, 2)          1.109863 -7.358786e-04         10\n",
       "Posição Falsa      I = (1, 2)          1.110520  2.794629e-04          1\n",
       "Ponto Fixo           x0 = 1.2          1.109967 -5.749486e-04          8\n",
       "Newton               x0 = 1.2          1.110339 -2.042571e-07          1\n",
       "Secante        x0 = 1, x1 = 2          1.110344  6.866371e-06          2"
      ]
     },
     "execution_count": 3,
     "metadata": {},
     "output_type": "execute_result"
    }
   ],
   "source": [
    "s2 = gerar_tabela(\n",
    "    I = (1, 2),\n",
    "    f = lambda x: math.e**(-x**(-2)) - math.cos(x),\n",
    "    e1 = 0.001,\n",
    "    e2 = 0.001,\n",
    "    fi = lambda x: math.cos(x) - math.e**(-x**(-2)) + x,\n",
    "    df = lambda x: math.e**(-x**(-2)) * (2*x**(-3)) + math.sin(x),\n",
    "    x0_MPF = 1.2,\n",
    "    x0_Newton= 1.2,\n",
    "    x0_x1_Secante = (1, 2)\n",
    ")\n",
    "\n",
    "s2"
   ]
  },
  {
   "cell_type": "markdown",
   "id": "8df0d5ea",
   "metadata": {},
   "source": [
    "## Interpolação\n",
    "\n",
    "Interpolação de funções através dos métodos de Lagrange e Newton"
   ]
  },
  {
   "cell_type": "code",
   "execution_count": 5,
   "id": "0e263067",
   "metadata": {},
   "outputs": [
    {
     "name": "stdout",
     "output_type": "stream",
     "text": [
      "Interpolação para f(1) = 1.0\n"
     ]
    }
   ],
   "source": [
    "f = interpolar_lagrange(x_k=[-1, 0, 1], y=[4, -1, 1])\n",
    "print(f'Interpolação para f(1) = {f(1)}')"
   ]
  }
 ],
 "metadata": {
  "kernelspec": {
   "display_name": "Python 3",
   "language": "python",
   "name": "python3"
  },
  "language_info": {
   "codemirror_mode": {
    "name": "ipython",
    "version": 3
   },
   "file_extension": ".py",
   "mimetype": "text/x-python",
   "name": "python",
   "nbconvert_exporter": "python",
   "pygments_lexer": "ipython3",
   "version": "3.12.2"
  }
 },
 "nbformat": 4,
 "nbformat_minor": 5
}
