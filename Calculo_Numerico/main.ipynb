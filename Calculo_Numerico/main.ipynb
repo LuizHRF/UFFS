{
 "cells": [
  {
   "cell_type": "markdown",
   "id": "caefc614",
   "metadata": {},
   "source": [
    "# **Implementação de métodos numéricos**\n",
    "\n",
    "Disciplina de `Cálculo Numérico`\n",
    "\n",
    "*Luiz Faccio*\n"
   ]
  },
  {
   "cell_type": "code",
   "execution_count": 1,
   "id": "9f014561",
   "metadata": {},
   "outputs": [],
   "source": [
    "import pandas as pd\n",
    "import math\n",
    "# from Algoritmos_Encontrar_Zeros.agrg import gerar_tabela\n",
    "from interpolacao.metodos import interpolar_newton, interpolar_lagrange, interpolar_gregory_newton"
   ]
  },
  {
   "cell_type": "markdown",
   "id": "df954b2b",
   "metadata": {},
   "source": [
    "## Aproximação de zeros\n",
    "\n",
    "Gera tabela de aproximações para zeros de uma função utilizando os métodos da bissecção, posição falsa, ponto fixo, Newton e Secante"
   ]
  },
  {
   "cell_type": "code",
   "execution_count": 2,
   "id": "e1be5a38",
   "metadata": {},
   "outputs": [],
   "source": [
    "# s = gerar_tabela(\n",
    "#     I = (1, 2),\n",
    "#     f = lambda x: x**3 -x -1,\n",
    "#     e1 = 0.000001,\n",
    "#     e2 = 0.000001,\n",
    "#     fi = lambda x: (x +1)**(1/3),\n",
    "#     df = lambda x: 3*(x**2) - 1,\n",
    "#     x0_MPF = 1.2,\n",
    "#     x0_Newton= 0.5,\n",
    "#     x0_x1_Secante = (0, 0.5)\n",
    "# )\n",
    "# s"
   ]
  },
  {
   "cell_type": "code",
   "execution_count": 3,
   "id": "29f303ed",
   "metadata": {},
   "outputs": [],
   "source": [
    "# s2 = gerar_tabela(\n",
    "#     I = (1, 2),\n",
    "#     f = lambda x: math.e**(-x**(-2)) - math.cos(x),\n",
    "#     e1 = 0.001,\n",
    "#     e2 = 0.001,\n",
    "#     fi = lambda x: math.cos(x) - math.e**(-x**(-2)) + x,\n",
    "#     df = lambda x: math.e**(-x**(-2)) * (2*x**(-3)) + math.sin(x),\n",
    "#     x0_MPF = 1.2,\n",
    "#     x0_Newton= 1.2,\n",
    "#     x0_x1_Secante = (1, 2)\n",
    "# )\n",
    "\n",
    "# s2"
   ]
  },
  {
   "cell_type": "markdown",
   "id": "8df0d5ea",
   "metadata": {},
   "source": [
    "## Interpolação\n",
    "\n",
    "Interpolação de funções através dos métodos de Lagrange e Newton"
   ]
  },
  {
   "cell_type": "code",
   "execution_count": 4,
   "id": "0e263067",
   "metadata": {},
   "outputs": [
    {
     "name": "stdout",
     "output_type": "stream",
     "text": [
      "Interpolação para f(1) = 1.0\n"
     ]
    }
   ],
   "source": [
    "f = interpolar_lagrange(x_k=[-1, 0, 1], y=[4, -1, 1])\n",
    "print(f'Interpolação para f(1) = {f(1)}')"
   ]
  },
  {
   "cell_type": "markdown",
   "id": "3e9374c7",
   "metadata": {},
   "source": [
    "1.   Na tabela abaixo está o número de habitantes de Belo Horizonte em alguns censos:\n",
    "\n",
    "\n",
    "| Ano   | 1950    | 1960    | 1970     | 1980     |\n",
    "|-------|---------|---------|----------|----------|\n",
    "| Habitantes | 352724  | 683908  | 1235030  | 1814990  |\n",
    "\n",
    "Determine o número aproximado de habitantes de Belo Horizonte em 1975 usando interpolação de Gregory-Newton."
   ]
  },
  {
   "cell_type": "code",
   "execution_count": 6,
   "id": "015bebe3",
   "metadata": {},
   "outputs": [
    {
     "name": "stdout",
     "output_type": "stream",
     "text": [
      "Número de operações realizadas: 31\n",
      "Interpolação para f(1975) = 1533349.0\n",
      "Número de operações realizadas: 8\n",
      "Interpolação para f(1975) = 1533349.0\n"
     ]
    }
   ],
   "source": [
    "f = interpolar_gregory_newton([1950, 1960, 1970, 1980], [352724, 683908, 1235030, 1814990])\n",
    "V = f(x=1975, contador=True)\n",
    "print(f'Interpolação para f(1975) = {V}')\n",
    "\n",
    "f = interpolar_lagrange([1950, 1960, 1970, 1980], [352724, 683908, 1235030, 1814990])\n",
    "print(f'Interpolação para f(1975) = {f(1975, contador=True)}')"
   ]
  }
 ],
 "metadata": {
  "kernelspec": {
   "display_name": "Python 3",
   "language": "python",
   "name": "python3"
  },
  "language_info": {
   "codemirror_mode": {
    "name": "ipython",
    "version": 3
   },
   "file_extension": ".py",
   "mimetype": "text/x-python",
   "name": "python",
   "nbconvert_exporter": "python",
   "pygments_lexer": "ipython3",
   "version": "3.12.2"
  }
 },
 "nbformat": 4,
 "nbformat_minor": 5
}
